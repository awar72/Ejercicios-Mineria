{
 "cells": [
  {
   "cell_type": "markdown",
   "metadata": {},
   "source": [
    "# Análisis y preprocesamiento\n",
    "\n",
    "En este caso se va a trabajar con un set de datos que contiene las donaciones de una organización sin fines de lucro con la lista de correo de los donantes de sus campañas anteriores. \n",
    "\n",
    "Se dispone de un archivo .csv y de un archivo .txt con la descripción del conjunto de datos.\n",
    "\n",
    "Resulta importante siempre coocer el contexto del negocio y las características del set de datos del que se dispone.\n",
    "\n",
    "Existen sitios (como http://www.kaggle.com) donde se dispone de conjuntos de datos para ocupar y, en muchos casos, se encontrará en el mismo lugar una descripción que ayudará a entender qué es lo que se está entregando."
   ]
  },
  {
   "cell_type": "code",
   "execution_count": 21,
   "metadata": {},
   "outputs": [],
   "source": [
    "import pandas as pd\n",
    "import numpy as np\n",
    "import matplotlib.pyplot as plt"
   ]
  },
  {
   "cell_type": "code",
   "execution_count": 47,
   "metadata": {},
   "outputs": [
    {
     "data": {
      "text/html": [
       "<div>\n",
       "<style scoped>\n",
       "    .dataframe tbody tr th:only-of-type {\n",
       "        vertical-align: middle;\n",
       "    }\n",
       "\n",
       "    .dataframe tbody tr th {\n",
       "        vertical-align: top;\n",
       "    }\n",
       "\n",
       "    .dataframe thead th {\n",
       "        text-align: right;\n",
       "    }\n",
       "</style>\n",
       "<table border=\"1\" class=\"dataframe\">\n",
       "  <thead>\n",
       "    <tr style=\"text-align: right;\">\n",
       "      <th></th>\n",
       "      <th>ODATEDW</th>\n",
       "      <th>OSOURCE</th>\n",
       "      <th>TCODE</th>\n",
       "      <th>STATE</th>\n",
       "      <th>ZIP</th>\n",
       "      <th>MAILCODE</th>\n",
       "      <th>PVASTATE</th>\n",
       "      <th>DOB</th>\n",
       "      <th>NOEXCH</th>\n",
       "      <th>RECINHSE</th>\n",
       "      <th>...</th>\n",
       "      <th>DONOR_AMOUNT</th>\n",
       "      <th>HPHONE_D</th>\n",
       "      <th>RFA_2R</th>\n",
       "      <th>RFA_2F</th>\n",
       "      <th>RFA_2A</th>\n",
       "      <th>MDMAUD_R</th>\n",
       "      <th>MDMAUD_F</th>\n",
       "      <th>MDMAUD_A</th>\n",
       "      <th>CLUSTER2</th>\n",
       "      <th>GEOCODE2</th>\n",
       "    </tr>\n",
       "  </thead>\n",
       "  <tbody>\n",
       "    <tr>\n",
       "      <th>0</th>\n",
       "      <td>8901</td>\n",
       "      <td>GRI</td>\n",
       "      <td>0</td>\n",
       "      <td>IL</td>\n",
       "      <td>61081</td>\n",
       "      <td></td>\n",
       "      <td></td>\n",
       "      <td>3712</td>\n",
       "      <td>0</td>\n",
       "      <td></td>\n",
       "      <td>...</td>\n",
       "      <td>0.0</td>\n",
       "      <td>0</td>\n",
       "      <td>L</td>\n",
       "      <td>4</td>\n",
       "      <td>E</td>\n",
       "      <td>X</td>\n",
       "      <td>X</td>\n",
       "      <td>X</td>\n",
       "      <td>39.0</td>\n",
       "      <td>C</td>\n",
       "    </tr>\n",
       "    <tr>\n",
       "      <th>1</th>\n",
       "      <td>9401</td>\n",
       "      <td>NWN</td>\n",
       "      <td>0</td>\n",
       "      <td>LA</td>\n",
       "      <td>70611</td>\n",
       "      <td></td>\n",
       "      <td></td>\n",
       "      <td>0</td>\n",
       "      <td>0</td>\n",
       "      <td></td>\n",
       "      <td>...</td>\n",
       "      <td>0.0</td>\n",
       "      <td>1</td>\n",
       "      <td>L</td>\n",
       "      <td>3</td>\n",
       "      <td>E</td>\n",
       "      <td>X</td>\n",
       "      <td>X</td>\n",
       "      <td>X</td>\n",
       "      <td>38.0</td>\n",
       "      <td>C</td>\n",
       "    </tr>\n",
       "    <tr>\n",
       "      <th>2</th>\n",
       "      <td>9401</td>\n",
       "      <td>MSD</td>\n",
       "      <td>1</td>\n",
       "      <td>TN</td>\n",
       "      <td>37127-</td>\n",
       "      <td></td>\n",
       "      <td></td>\n",
       "      <td>3211</td>\n",
       "      <td>0</td>\n",
       "      <td></td>\n",
       "      <td>...</td>\n",
       "      <td>0.0</td>\n",
       "      <td>0</td>\n",
       "      <td>L</td>\n",
       "      <td>1</td>\n",
       "      <td>F</td>\n",
       "      <td>X</td>\n",
       "      <td>X</td>\n",
       "      <td>X</td>\n",
       "      <td>34.0</td>\n",
       "      <td>B</td>\n",
       "    </tr>\n",
       "    <tr>\n",
       "      <th>3</th>\n",
       "      <td>8901</td>\n",
       "      <td>ENQ</td>\n",
       "      <td>0</td>\n",
       "      <td>MN</td>\n",
       "      <td>56475</td>\n",
       "      <td></td>\n",
       "      <td></td>\n",
       "      <td>2603</td>\n",
       "      <td>0</td>\n",
       "      <td></td>\n",
       "      <td>...</td>\n",
       "      <td>0.0</td>\n",
       "      <td>1</td>\n",
       "      <td>L</td>\n",
       "      <td>4</td>\n",
       "      <td>D</td>\n",
       "      <td>X</td>\n",
       "      <td>X</td>\n",
       "      <td>X</td>\n",
       "      <td>57.0</td>\n",
       "      <td>D</td>\n",
       "    </tr>\n",
       "    <tr>\n",
       "      <th>4</th>\n",
       "      <td>9201</td>\n",
       "      <td>HCC</td>\n",
       "      <td>1</td>\n",
       "      <td>LA</td>\n",
       "      <td>70791</td>\n",
       "      <td></td>\n",
       "      <td></td>\n",
       "      <td>0</td>\n",
       "      <td>0</td>\n",
       "      <td>X</td>\n",
       "      <td>...</td>\n",
       "      <td>0.0</td>\n",
       "      <td>0</td>\n",
       "      <td>L</td>\n",
       "      <td>1</td>\n",
       "      <td>G</td>\n",
       "      <td>X</td>\n",
       "      <td>X</td>\n",
       "      <td>X</td>\n",
       "      <td>38.0</td>\n",
       "      <td>B</td>\n",
       "    </tr>\n",
       "  </tbody>\n",
       "</table>\n",
       "<p>5 rows × 481 columns</p>\n",
       "</div>"
      ],
      "text/plain": [
       "   ODATEDW OSOURCE  TCODE STATE     ZIP MAILCODE PVASTATE   DOB NOEXCH  \\\n",
       "0     8901     GRI      0    IL   61081                    3712      0   \n",
       "1     9401     NWN      0    LA   70611                       0      0   \n",
       "2     9401     MSD      1    TN  37127-                    3211      0   \n",
       "3     8901     ENQ      0    MN   56475                    2603      0   \n",
       "4     9201     HCC      1    LA   70791                       0      0   \n",
       "\n",
       "  RECINHSE  ... DONOR_AMOUNT HPHONE_D RFA_2R RFA_2F RFA_2A  MDMAUD_R  \\\n",
       "0           ...          0.0        0      L      4      E         X   \n",
       "1           ...          0.0        1      L      3      E         X   \n",
       "2           ...          0.0        0      L      1      F         X   \n",
       "3           ...          0.0        1      L      4      D         X   \n",
       "4        X  ...          0.0        0      L      1      G         X   \n",
       "\n",
       "   MDMAUD_F MDMAUD_A CLUSTER2 GEOCODE2  \n",
       "0         X        X     39.0        C  \n",
       "1         X        X     38.0        C  \n",
       "2         X        X     34.0        B  \n",
       "3         X        X     57.0        D  \n",
       "4         X        X     38.0        B  \n",
       "\n",
       "[5 rows x 481 columns]"
      ]
     },
     "execution_count": 47,
     "metadata": {},
     "output_type": "execute_result"
    }
   ],
   "source": [
    "# Carga de datos\n",
    "data_frame = pd.read_csv(\"DataONG.csv\", low_memory=False)\n",
    "data_frame.head()"
   ]
  },
  {
   "cell_type": "markdown",
   "metadata": {},
   "source": [
    "## Antes de continuar ...\n",
    "\n",
    "Se sugiere que revise el archivo TXT para conocer (aunque sea de manera superficial) por ahora la información de la cual se dispone"
   ]
  },
  {
   "cell_type": "markdown",
   "metadata": {},
   "source": [
    "## Análisis general\n",
    "\n",
    "1. Conocer la cantidad de obsevaciones y la cantidad de características\n",
    "2. Averiguar si existen datos nulos\n",
    "3. Conocer la cantidad de columnas categóricas y numéricas (recuerde que muchos algoritmos trabajan solo con columnas numéricas y, eventualmente, hay que transformarlas)"
   ]
  },
  {
   "cell_type": "code",
   "execution_count": 48,
   "metadata": {},
   "outputs": [
    {
     "data": {
      "text/plain": [
       "(47720, 481)"
      ]
     },
     "execution_count": 48,
     "metadata": {},
     "output_type": "execute_result"
    }
   ],
   "source": [
    "data_frame.shape"
   ]
  },
  {
   "cell_type": "code",
   "execution_count": 49,
   "metadata": {},
   "outputs": [
    {
     "data": {
      "text/plain": [
       "True"
      ]
     },
     "execution_count": 49,
     "metadata": {},
     "output_type": "execute_result"
    }
   ],
   "source": [
    "data_frame.isnull().any().any()"
   ]
  },
  {
   "cell_type": "code",
   "execution_count": 50,
   "metadata": {},
   "outputs": [
    {
     "data": {
      "text/plain": [
       "68"
      ]
     },
     "execution_count": 50,
     "metadata": {},
     "output_type": "execute_result"
    }
   ],
   "source": [
    "# Agrupación de las columnas por tipo de datos\n",
    "tipos = data_frame.columns.to_series().groupby(data_frame.dtypes).groups\n",
    "\n",
    "# Conociendo la lista de columnas categóricas\n",
    "ctext = tipos[np.dtype('object')]\n",
    "len(ctext)  # cantidad de columnas con datos categóricos. "
   ]
  },
  {
   "cell_type": "code",
   "execution_count": 51,
   "metadata": {},
   "outputs": [
    {
     "data": {
      "text/plain": [
       "413"
      ]
     },
     "execution_count": 51,
     "metadata": {},
     "output_type": "execute_result"
    }
   ],
   "source": [
    "# Conociendo la lista de columnas numéricas\n",
    "columnas = data_frame.columns  \n",
    "cnum = list(set(columnas) - set(ctext))\n",
    "len(cnum)"
   ]
  },
  {
   "cell_type": "markdown",
   "metadata": {},
   "source": [
    "## Tratamiento de los nulos\n",
    "\n",
    "En el análisis anterior quedó en evidencia la existencia de valores nulos, razón por la cual hay que tratarlos. "
   ]
  },
  {
   "cell_type": "code",
   "execution_count": 52,
   "metadata": {},
   "outputs": [],
   "source": [
    "# Completando valores faltantes datos cuantititavos\n",
    "for columna in cnum:\n",
    "    mean = data_frame[columna].mean()\n",
    "    data_frame[columna] = data_frame[columna].fillna(mean)"
   ]
  },
  {
   "cell_type": "code",
   "execution_count": 53,
   "metadata": {},
   "outputs": [],
   "source": [
    "# Completando valores faltantes datos categóricos\n",
    "for columna in ctext:\n",
    "    mode = data_frame[columna].mode()[0]\n",
    "    data_frame[columna] = data_frame[columna].fillna(mode)"
   ]
  },
  {
   "cell_type": "code",
   "execution_count": 54,
   "metadata": {},
   "outputs": [
    {
     "data": {
      "text/plain": [
       "False"
      ]
     },
     "execution_count": 54,
     "metadata": {},
     "output_type": "execute_result"
    }
   ],
   "source": [
    "# Se vuelve a comprobar los nulos\n",
    "data_frame.isnull().any().any()"
   ]
  },
  {
   "cell_type": "code",
   "execution_count": 15,
   "metadata": {},
   "outputs": [],
   "source": [
    "# Guardando el dataset preprocesado\n",
    "# Save transform datasets\n",
    "data_frame.to_csv(\"DataONG_procesado.csv\", index=False)"
   ]
  },
  {
   "cell_type": "code",
   "execution_count": 19,
   "metadata": {},
   "outputs": [
    {
     "name": "stdout",
     "output_type": "stream",
     "text": [
      "El procentaje de donantes es 5.08%\n"
     ]
    }
   ],
   "source": [
    "# Calculando el porcentaje de donantes sobre toda la base de datos\n",
    "porcent_donantes = (data_frame[data_frame.DONOR_AMOUNT > 0]['DONOR_AMOUNT'].count() * 1.0/ data_frame['DONOR_AMOUNT'].count()) * 100.0\n",
    "print(\"El procentaje de donantes es {0:.2f}%\"\n",
    "      .format(porcent_donantes))"
   ]
  },
  {
   "cell_type": "code",
   "execution_count": 55,
   "metadata": {},
   "outputs": [
    {
     "data": {
      "image/png": "[encoded data removed]",
      "text/plain": [
       "<Figure size 432x288 with 1 Axes>"
      ]
     },
     "metadata": {},
     "output_type": "display_data"
    }
   ],
   "source": [
    "# Gráfico de tortas del porcentaje de donantes\n",
    "# Agrupando por DONOR_FLAG\n",
    "donantes = data_frame.groupby('DONOR_FLAG').IDX.count() \n",
    "# Creando las leyendas del grafico.\n",
    "labels = [ 'Donante\\n' + str(round(x * 1.0 / donantes.sum() * \n",
    "                            100.0, 2)) + '%'  for x in donantes ]\n",
    "labels[0] = 'No ' + labels[0]\n",
    "\n",
    "plt.pie(donantes, labels=labels)\n",
    "plt.title('Porcion de donantes')\n",
    "plt.show()"
   ]
  },
  {
   "cell_type": "markdown",
   "metadata": {},
   "source": [
    "### Análisis del gráfico\n",
    "\n",
    "Se ve que el porcentaje de personas que fueron donantes en el pasado es realmente muy bajo, solo un 5.08% del total de personas (2423). \n",
    "\n",
    "Este es un dato importante a tener en cuenta si se pretende, por ejemplo, clasificar; ya que al existir tanta diferencia entre las clases a clasificar, esto puede afectar considerablemente al algoritmo de aprendizaje. \n",
    "\n",
    "Conviene ahora explorar con más detalle a este grupo pequeño de personas que fueron donantes; veamos por ejemplo como se dividen de acuerdo a la cantidad de dinero donado."
   ]
  },
  {
   "cell_type": "markdown",
   "metadata": {},
   "source": [
    "## Trabajando con filtro"
   ]
  },
  {
   "cell_type": "code",
   "execution_count": 23,
   "metadata": {},
   "outputs": [
    {
     "data": {
      "text/plain": [
       "(2423, 481)"
      ]
     },
     "execution_count": 23,
     "metadata": {},
     "output_type": "execute_result"
    }
   ],
   "source": [
    "# Creando subset con solo los donates\n",
    "data_donantes = data_frame[data_frame.DONOR_AMOUNT > 0]\n",
    "\n",
    "data_donantes.shape"
   ]
  },
  {
   "cell_type": "code",
   "execution_count": 26,
   "metadata": {},
   "outputs": [
    {
     "data": {
      "image/png": "[encoded data removed]",
      "text/plain": [
       "<Figure size 432x288 with 1 Axes>"
      ]
     },
     "metadata": {
      "needs_background": "light"
     },
     "output_type": "display_data"
    }
   ],
   "source": [
    "# Analizando el importe de donanciones\n",
    "# Creando un segmentos de montos\n",
    "monto_segm = pd.cut(data_donantes['DONOR_AMOUNT'], [0, 10,  20, 30, 40, 50, 60, 100, 200])\n",
    "# Creando el grafico de barras desde pandas\n",
    "plot = pd.value_counts(monto_segm).plot(kind='bar', title='Montos de donación')\n",
    "plot.set_ylabel('Nro. de donantes')\n",
    "plot.set_xlabel('Rango de montos')\n",
    "plt.show()"
   ]
  },
  {
   "cell_type": "markdown",
   "metadata": {},
   "source": [
    "### Comentarios del gráfico\n",
    "\n",
    "Es posible apreciar que la mayor cantidad de montos de donaciones se encuentra entre el rango 0 y 30"
   ]
  },
  {
   "cell_type": "code",
   "execution_count": 56,
   "metadata": {},
   "outputs": [
    {
     "data": {
      "text/plain": [
       "(0, 10]       1026\n",
       "(10, 20]       921\n",
       "(20, 30]       358\n",
       "(30, 40]        53\n",
       "(40, 50]        43\n",
       "(60, 100]       15\n",
       "(50, 60]         4\n",
       "(100, 200]       3\n",
       "Name: DONOR_AMOUNT, dtype: int64"
      ]
     },
     "execution_count": 56,
     "metadata": {},
     "output_type": "execute_result"
    }
   ],
   "source": [
    "# Agrupación por segmento según monto donado.\n",
    "pd.value_counts(monto_segm)"
   ]
  },
  {
   "cell_type": "markdown",
   "metadata": {},
   "source": [
    "### Responder a algunas preguntas"
   ]
  },
  {
   "cell_type": "markdown",
   "metadata": {},
   "source": [
    "### ¿Cuál es el promedio de donaciones?"
   ]
  },
  {
   "cell_type": "code",
   "execution_count": 28,
   "metadata": {},
   "outputs": [
    {
     "data": {
      "text/plain": [
       "15.598237721832438"
      ]
     },
     "execution_count": 28,
     "metadata": {},
     "output_type": "execute_result"
    }
   ],
   "source": [
    "# Monto de donación promedio\n",
    "data_donantes['DONOR_AMOUNT'].mean()"
   ]
  },
  {
   "cell_type": "code",
   "execution_count": 32,
   "metadata": {},
   "outputs": [
    {
     "data": {
      "image/png": "[encoded data removed]",
      "text/plain": [
       "<Figure size 432x288 with 1 Axes>"
      ]
     },
     "metadata": {
      "needs_background": "light"
     },
     "output_type": "display_data"
    }
   ],
   "source": [
    "# Gráfico de cajas del importe de donación\n",
    "plt.boxplot(list(data_donantes['DONOR_AMOUNT']))\n",
    "plt.title('Montos de donación')\n",
    "plt.show()"
   ]
  },
  {
   "cell_type": "markdown",
   "metadata": {},
   "source": [
    "### Analizando el gráfico\n",
    "\n",
    "Este análisis muestra que la mayor cantidad de donaciones caen en un rango de importes entre 0 y 30 (tal y como se había eomentado antes), siendo la donación promedio 15.60. También es posible ver que donaciones que superen un importe de 50 son casos realmente poco frecuentes, por lo que constituyen valores atípicos y sería prudente eliminar estos casos al entrenar el modelo para que no distorsionen los resultados.\n",
    "\n",
    "Otra exploración interesante que se podría realizar sobre el set de datos relacionado con los donantes, es ver cómo se divide este grupo en términos de género y edad."
   ]
  },
  {
   "cell_type": "markdown",
   "metadata": {},
   "source": [
    "### ¿Cuál es la distribución de los donantes por género?"
   ]
  },
  {
   "cell_type": "code",
   "execution_count": 33,
   "metadata": {},
   "outputs": [
    {
     "data": {
      "image/png": "[encoded data removed]",
      "text/plain": [
       "<Figure size 432x288 with 1 Axes>"
      ]
     },
     "metadata": {
      "needs_background": "light"
     },
     "output_type": "display_data"
    }
   ],
   "source": [
    "# Gráfico del género de los donantes\n",
    "data_donantes.groupby('GENDER').size().plot(kind='bar')\n",
    "plt.title('Distribución por género')\n",
    "plt.show()"
   ]
  },
  {
   "cell_type": "markdown",
   "metadata": {},
   "source": [
    "### ¿Cuál es la distribución de las donaciones según el género?"
   ]
  },
  {
   "cell_type": "code",
   "execution_count": 35,
   "metadata": {},
   "outputs": [
    {
     "data": {
      "image/png": "[encoded data removed]",
      "text/plain": [
       "<Figure size 432x288 with 1 Axes>"
      ]
     },
     "metadata": {
      "needs_background": "light"
     },
     "output_type": "display_data"
    }
   ],
   "source": [
    "# Donaciones segùn el género\n",
    "data_donantes[(data_donantes.DONOR_AMOUNT <= 50)\n",
    "             & (data_donantes.GENDER.isin(['F', 'M'])\n",
    "               )][['DONOR_AMOUNT', 'GENDER']].boxplot(by='GENDER')\n",
    "plt.title('Donantes según género')\n",
    "plt.show()"
   ]
  },
  {
   "cell_type": "code",
   "execution_count": 36,
   "metadata": {},
   "outputs": [
    {
     "data": {
      "text/plain": [
       "DONOR_AMOUNT    14.610311\n",
       "dtype: float64"
      ]
     },
     "execution_count": 36,
     "metadata": {},
     "output_type": "execute_result"
    }
   ],
   "source": [
    "# Media de monto donado por mujeres\n",
    "data_donantes[data_donantes.GENDER == 'F'][['DONOR_AMOUNT']].mean()"
   ]
  },
  {
   "cell_type": "code",
   "execution_count": 38,
   "metadata": {},
   "outputs": [
    {
     "data": {
      "text/plain": [
       "DONOR_AMOUNT    16.81989\n",
       "dtype: float64"
      ]
     },
     "execution_count": 38,
     "metadata": {},
     "output_type": "execute_result"
    }
   ],
   "source": [
    "# Media de monto donado por hombres\n",
    "data_donantes[data_donantes.GENDER == 'M'][['DONOR_AMOUNT']].mean()"
   ]
  },
  {
   "cell_type": "markdown",
   "metadata": {},
   "source": [
    "### Análisis de resultados\n",
    "\n",
    "Las mujeres suelen estar más propensas a donar, aunque donan un monto promedio menor (14.61) al que donan los hombres (16.82). \n",
    "\n",
    "Ahora se revisará el comportamiento de las donaciones respecto a la edad."
   ]
  },
  {
   "cell_type": "markdown",
   "metadata": {},
   "source": [
    "### ¿Cuál es la distribución de los donantes según edad?"
   ]
  },
  {
   "cell_type": "code",
   "execution_count": 39,
   "metadata": {},
   "outputs": [
    {
     "data": {
      "image/png": "[encoded data removed]",
      "text/plain": [
       "<Figure size 432x288 with 1 Axes>"
      ]
     },
     "metadata": {
      "needs_background": "light"
     },
     "output_type": "display_data"
    }
   ],
   "source": [
    "# Distribución de la edad de los donantes\n",
    "data_donantes['AGE'].hist().set_title('Distribución de donantes según edad')\n",
    "plt.show()"
   ]
  },
  {
   "cell_type": "markdown",
   "metadata": {},
   "source": [
    "Para mejorar la visualización se genera el gráfico considerando rango de edades"
   ]
  },
  {
   "cell_type": "code",
   "execution_count": 58,
   "metadata": {},
   "outputs": [
    {
     "data": {
      "image/png": "[encoded data removed]",
      "text/plain": [
       "<Figure size 432x288 with 1 Axes>"
      ]
     },
     "metadata": {
      "needs_background": "light"
     },
     "output_type": "display_data"
    }
   ],
   "source": [
    "# Agrupando la edad por rango de a 10\n",
    "rango_edades = pd.cut(data_donantes['AGE'], range(0, 100, 10))\n",
    "\n",
    "# Gráfico de barras de donaciones por edad\n",
    "pd.value_counts(rango_edades).plot(kind='bar', title='Donaciones por rango de edad')\n",
    "plt.show()"
   ]
  },
  {
   "cell_type": "markdown",
   "metadata": {},
   "source": [
    "### Análisis resultados\n",
    "\n",
    "En este último análisis es posible apreciar que la mayor cantidad de los donantes son individuos cuya edad se encuentra entre los 60 y 70 años, aunque la media de monto donado más alta la tienen las personas que van desde los 30 a los 60 años.\n",
    "\n",
    "### Trabajo futuro ...\n",
    "\n",
    "En las próximas experiencias es posible continuar con el ejemplo completando los restantes pasos que incluye un proyecto de **Minería de datos** hasta llegar al modelo y poder utilizarlo para, por ejemplo, realizar predicciones (selección de atributos - armado de modelo - entrenamiento - evaluación - métricas - predicción)."
   ]
  },
  {
   "cell_type": "code",
   "execution_count": null,
   "metadata": {},
   "outputs": [],
   "source": []
  }
 ],
 "metadata": {
  "kernelspec": {
   "display_name": "Python 3",
   "language": "python",
   "name": "python3"
  },
  "language_info": {
   "codemirror_mode": {
    "name": "ipython",
    "version": 3
   },
   "file_extension": ".py",
   "mimetype": "text/x-python",
   "name": "python",
   "nbconvert_exporter": "python",
   "pygments_lexer": "ipython3",
   "version": "3.7.6"
  }
 },
 "nbformat": 4,
 "nbformat_minor": 4
}
