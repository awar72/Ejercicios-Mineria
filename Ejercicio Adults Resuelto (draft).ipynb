{
 "cells": [
  {
   "cell_type": "code",
   "execution_count": 1,
   "id": "1fe818dd-7ac1-4bc4-818c-e18b1ec067c1",
   "metadata": {},
   "outputs": [],
   "source": [
    "import numpy as np\n",
    "import pandas as pd\n",
    "import matplotlib.pyplot as plt\n",
    "from sklearn.feature_extraction import DictVectorizer\n",
    "import statistics as stat\n",
    "import seaborn as sns\n",
    "%matplotlib inline "
   ]
  },
  {
   "cell_type": "code",
   "execution_count": 2,
   "id": "8c5bc764-e912-43cb-9523-e4d0db39c25e",
   "metadata": {},
   "outputs": [
    {
     "data": {
      "text/plain": [
       "(32561, 15)"
      ]
     },
     "execution_count": 2,
     "metadata": {},
     "output_type": "execute_result"
    }
   ],
   "source": [
    "data_frame = pd.read_csv(\"3.2.3 adult.csv\")\n",
    "data_frame.shape"
   ]
  },
  {
   "cell_type": "code",
   "execution_count": 3,
   "id": "c1e943c9-08d7-4634-8665-1754c0ec75ad",
   "metadata": {},
   "outputs": [
    {
     "data": {
      "text/html": [
       "<div>\n",
       "<style scoped>\n",
       "    .dataframe tbody tr th:only-of-type {\n",
       "        vertical-align: middle;\n",
       "    }\n",
       "\n",
       "    .dataframe tbody tr th {\n",
       "        vertical-align: top;\n",
       "    }\n",
       "\n",
       "    .dataframe thead th {\n",
       "        text-align: right;\n",
       "    }\n",
       "</style>\n",
       "<table border=\"1\" class=\"dataframe\">\n",
       "  <thead>\n",
       "    <tr style=\"text-align: right;\">\n",
       "      <th></th>\n",
       "      <th>age</th>\n",
       "      <th>workclass</th>\n",
       "      <th>fnlwgt</th>\n",
       "      <th>education</th>\n",
       "      <th>education.num</th>\n",
       "      <th>marital.status</th>\n",
       "      <th>occupation</th>\n",
       "      <th>relationship</th>\n",
       "      <th>race</th>\n",
       "      <th>sex</th>\n",
       "      <th>capital.gain</th>\n",
       "      <th>capital.loss</th>\n",
       "      <th>hours.per.week</th>\n",
       "      <th>native.country</th>\n",
       "      <th>income</th>\n",
       "    </tr>\n",
       "  </thead>\n",
       "  <tbody>\n",
       "    <tr>\n",
       "      <th>0</th>\n",
       "      <td>90</td>\n",
       "      <td>?</td>\n",
       "      <td>77053</td>\n",
       "      <td>HS-grad</td>\n",
       "      <td>9</td>\n",
       "      <td>Widowed</td>\n",
       "      <td>?</td>\n",
       "      <td>Not-in-family</td>\n",
       "      <td>White</td>\n",
       "      <td>Female</td>\n",
       "      <td>0</td>\n",
       "      <td>4356</td>\n",
       "      <td>40</td>\n",
       "      <td>United-States</td>\n",
       "      <td>&lt;=50K</td>\n",
       "    </tr>\n",
       "    <tr>\n",
       "      <th>1</th>\n",
       "      <td>82</td>\n",
       "      <td>Private</td>\n",
       "      <td>132870</td>\n",
       "      <td>HS-grad</td>\n",
       "      <td>9</td>\n",
       "      <td>Widowed</td>\n",
       "      <td>Exec-managerial</td>\n",
       "      <td>Not-in-family</td>\n",
       "      <td>White</td>\n",
       "      <td>Female</td>\n",
       "      <td>0</td>\n",
       "      <td>4356</td>\n",
       "      <td>18</td>\n",
       "      <td>United-States</td>\n",
       "      <td>&lt;=50K</td>\n",
       "    </tr>\n",
       "    <tr>\n",
       "      <th>2</th>\n",
       "      <td>66</td>\n",
       "      <td>?</td>\n",
       "      <td>186061</td>\n",
       "      <td>Some-college</td>\n",
       "      <td>10</td>\n",
       "      <td>Widowed</td>\n",
       "      <td>?</td>\n",
       "      <td>Unmarried</td>\n",
       "      <td>Black</td>\n",
       "      <td>Female</td>\n",
       "      <td>0</td>\n",
       "      <td>4356</td>\n",
       "      <td>40</td>\n",
       "      <td>United-States</td>\n",
       "      <td>&lt;=50K</td>\n",
       "    </tr>\n",
       "    <tr>\n",
       "      <th>3</th>\n",
       "      <td>54</td>\n",
       "      <td>Private</td>\n",
       "      <td>140359</td>\n",
       "      <td>7th-8th</td>\n",
       "      <td>4</td>\n",
       "      <td>Divorced</td>\n",
       "      <td>Machine-op-inspct</td>\n",
       "      <td>Unmarried</td>\n",
       "      <td>White</td>\n",
       "      <td>Female</td>\n",
       "      <td>0</td>\n",
       "      <td>3900</td>\n",
       "      <td>40</td>\n",
       "      <td>United-States</td>\n",
       "      <td>&lt;=50K</td>\n",
       "    </tr>\n",
       "    <tr>\n",
       "      <th>4</th>\n",
       "      <td>41</td>\n",
       "      <td>Private</td>\n",
       "      <td>264663</td>\n",
       "      <td>Some-college</td>\n",
       "      <td>10</td>\n",
       "      <td>Separated</td>\n",
       "      <td>Prof-specialty</td>\n",
       "      <td>Own-child</td>\n",
       "      <td>White</td>\n",
       "      <td>Female</td>\n",
       "      <td>0</td>\n",
       "      <td>3900</td>\n",
       "      <td>40</td>\n",
       "      <td>United-States</td>\n",
       "      <td>&lt;=50K</td>\n",
       "    </tr>\n",
       "  </tbody>\n",
       "</table>\n",
       "</div>"
      ],
      "text/plain": [
       "   age workclass  fnlwgt     education  education.num marital.status  \\\n",
       "0   90         ?   77053       HS-grad              9        Widowed   \n",
       "1   82   Private  132870       HS-grad              9        Widowed   \n",
       "2   66         ?  186061  Some-college             10        Widowed   \n",
       "3   54   Private  140359       7th-8th              4       Divorced   \n",
       "4   41   Private  264663  Some-college             10      Separated   \n",
       "\n",
       "          occupation   relationship   race     sex  capital.gain  \\\n",
       "0                  ?  Not-in-family  White  Female             0   \n",
       "1    Exec-managerial  Not-in-family  White  Female             0   \n",
       "2                  ?      Unmarried  Black  Female             0   \n",
       "3  Machine-op-inspct      Unmarried  White  Female             0   \n",
       "4     Prof-specialty      Own-child  White  Female             0   \n",
       "\n",
       "   capital.loss  hours.per.week native.country income  \n",
       "0          4356              40  United-States  <=50K  \n",
       "1          4356              18  United-States  <=50K  \n",
       "2          4356              40  United-States  <=50K  \n",
       "3          3900              40  United-States  <=50K  \n",
       "4          3900              40  United-States  <=50K  "
      ]
     },
     "execution_count": 3,
     "metadata": {},
     "output_type": "execute_result"
    }
   ],
   "source": [
    "data_frame.head()"
   ]
  },
  {
   "cell_type": "code",
   "execution_count": 19,
   "id": "aaf56b87-f6cb-4bd9-8862-cfb92163928f",
   "metadata": {},
   "outputs": [],
   "source": [
    "def encode_onehot(df, cols):\n",
    "    \"\"\"\n",
    "    One-hot encoding is applied to columns specified in a pandas DataFrame.\n",
    "    \n",
    "    Modified from: https://gist.github.com/kljensen/5452382\n",
    "    \n",
    "    Details:\n",
    "    \n",
    "    http://en.wikipedia.org/wiki/One-hot\n",
    "    http://scikit-learn.org/stable/modules/generated/sklearn.preprocessing.OneHotEncoder.html\n",
    "    \n",
    "    @param df pandas DataFrame\n",
    "    @param cols a list of columns to encode\n",
    "    @return a DataFrame with one-hot encoding\n",
    "    \"\"\"\n",
    "    vec = DictVectorizer()\n",
    "    \n",
    "    vec_data = pd.DataFrame(vec.fit_transform(df[cols].to_dict('records')).toarray())\n",
    "    vec_data.columns = vec.get_feature_names()\n",
    "    vec_data.index = df.index\n",
    "    \n",
    "    df = df.drop(cols, axis=1)\n",
    "    df = df.join(vec_data)\n",
    "    return df"
   ]
  },
  {
   "cell_type": "code",
   "execution_count": 4,
   "id": "6fe0d3c3-4876-4938-8a6a-6e781a396d07",
   "metadata": {
    "tags": []
   },
   "outputs": [
    {
     "data": {
      "text/html": [
       "<div>\n",
       "<style scoped>\n",
       "    .dataframe tbody tr th:only-of-type {\n",
       "        vertical-align: middle;\n",
       "    }\n",
       "\n",
       "    .dataframe tbody tr th {\n",
       "        vertical-align: top;\n",
       "    }\n",
       "\n",
       "    .dataframe thead th {\n",
       "        text-align: right;\n",
       "    }\n",
       "</style>\n",
       "<table border=\"1\" class=\"dataframe\">\n",
       "  <thead>\n",
       "    <tr style=\"text-align: right;\">\n",
       "      <th></th>\n",
       "      <th>age</th>\n",
       "      <th>fnlwgt</th>\n",
       "      <th>education.num</th>\n",
       "      <th>capital.gain</th>\n",
       "      <th>capital.loss</th>\n",
       "      <th>hours.per.week</th>\n",
       "    </tr>\n",
       "  </thead>\n",
       "  <tbody>\n",
       "    <tr>\n",
       "      <th>count</th>\n",
       "      <td>32561.000000</td>\n",
       "      <td>3.256100e+04</td>\n",
       "      <td>32561.000000</td>\n",
       "      <td>32561.000000</td>\n",
       "      <td>32561.000000</td>\n",
       "      <td>32561.000000</td>\n",
       "    </tr>\n",
       "    <tr>\n",
       "      <th>mean</th>\n",
       "      <td>38.581647</td>\n",
       "      <td>1.897784e+05</td>\n",
       "      <td>10.080679</td>\n",
       "      <td>1077.648844</td>\n",
       "      <td>87.303830</td>\n",
       "      <td>40.437456</td>\n",
       "    </tr>\n",
       "    <tr>\n",
       "      <th>std</th>\n",
       "      <td>13.640433</td>\n",
       "      <td>1.055500e+05</td>\n",
       "      <td>2.572720</td>\n",
       "      <td>7385.292085</td>\n",
       "      <td>402.960219</td>\n",
       "      <td>12.347429</td>\n",
       "    </tr>\n",
       "    <tr>\n",
       "      <th>min</th>\n",
       "      <td>17.000000</td>\n",
       "      <td>1.228500e+04</td>\n",
       "      <td>1.000000</td>\n",
       "      <td>0.000000</td>\n",
       "      <td>0.000000</td>\n",
       "      <td>1.000000</td>\n",
       "    </tr>\n",
       "    <tr>\n",
       "      <th>25%</th>\n",
       "      <td>28.000000</td>\n",
       "      <td>1.178270e+05</td>\n",
       "      <td>9.000000</td>\n",
       "      <td>0.000000</td>\n",
       "      <td>0.000000</td>\n",
       "      <td>40.000000</td>\n",
       "    </tr>\n",
       "    <tr>\n",
       "      <th>50%</th>\n",
       "      <td>37.000000</td>\n",
       "      <td>1.783560e+05</td>\n",
       "      <td>10.000000</td>\n",
       "      <td>0.000000</td>\n",
       "      <td>0.000000</td>\n",
       "      <td>40.000000</td>\n",
       "    </tr>\n",
       "    <tr>\n",
       "      <th>75%</th>\n",
       "      <td>48.000000</td>\n",
       "      <td>2.370510e+05</td>\n",
       "      <td>12.000000</td>\n",
       "      <td>0.000000</td>\n",
       "      <td>0.000000</td>\n",
       "      <td>45.000000</td>\n",
       "    </tr>\n",
       "    <tr>\n",
       "      <th>max</th>\n",
       "      <td>90.000000</td>\n",
       "      <td>1.484705e+06</td>\n",
       "      <td>16.000000</td>\n",
       "      <td>99999.000000</td>\n",
       "      <td>4356.000000</td>\n",
       "      <td>99.000000</td>\n",
       "    </tr>\n",
       "  </tbody>\n",
       "</table>\n",
       "</div>"
      ],
      "text/plain": [
       "                age        fnlwgt  education.num  capital.gain  capital.loss  \\\n",
       "count  32561.000000  3.256100e+04   32561.000000  32561.000000  32561.000000   \n",
       "mean      38.581647  1.897784e+05      10.080679   1077.648844     87.303830   \n",
       "std       13.640433  1.055500e+05       2.572720   7385.292085    402.960219   \n",
       "min       17.000000  1.228500e+04       1.000000      0.000000      0.000000   \n",
       "25%       28.000000  1.178270e+05       9.000000      0.000000      0.000000   \n",
       "50%       37.000000  1.783560e+05      10.000000      0.000000      0.000000   \n",
       "75%       48.000000  2.370510e+05      12.000000      0.000000      0.000000   \n",
       "max       90.000000  1.484705e+06      16.000000  99999.000000   4356.000000   \n",
       "\n",
       "       hours.per.week  \n",
       "count    32561.000000  \n",
       "mean        40.437456  \n",
       "std         12.347429  \n",
       "min          1.000000  \n",
       "25%         40.000000  \n",
       "50%         40.000000  \n",
       "75%         45.000000  \n",
       "max         99.000000  "
      ]
     },
     "execution_count": 4,
     "metadata": {},
     "output_type": "execute_result"
    }
   ],
   "source": [
    "data_frame.describe()"
   ]
  },
  {
   "cell_type": "code",
   "execution_count": 5,
   "id": "7a785be2-0fc4-4ee5-9370-34e609fed75c",
   "metadata": {},
   "outputs": [
    {
     "data": {
      "text/plain": [
       "age                int64\n",
       "workclass         object\n",
       "fnlwgt             int64\n",
       "education         object\n",
       "education.num      int64\n",
       "marital.status    object\n",
       "occupation        object\n",
       "relationship      object\n",
       "race              object\n",
       "sex               object\n",
       "capital.gain       int64\n",
       "capital.loss       int64\n",
       "hours.per.week     int64\n",
       "native.country    object\n",
       "income            object\n",
       "dtype: object"
      ]
     },
     "execution_count": 5,
     "metadata": {},
     "output_type": "execute_result"
    }
   ],
   "source": [
    "data_frame.dtypes"
   ]
  },
  {
   "cell_type": "code",
   "execution_count": 6,
   "id": "4b140daa-2ce7-433d-aed1-2b303b9b27c4",
   "metadata": {},
   "outputs": [
    {
     "data": {
      "text/html": [
       "<div>\n",
       "<style scoped>\n",
       "    .dataframe tbody tr th:only-of-type {\n",
       "        vertical-align: middle;\n",
       "    }\n",
       "\n",
       "    .dataframe tbody tr th {\n",
       "        vertical-align: top;\n",
       "    }\n",
       "\n",
       "    .dataframe thead th {\n",
       "        text-align: right;\n",
       "    }\n",
       "</style>\n",
       "<table border=\"1\" class=\"dataframe\">\n",
       "  <thead>\n",
       "    <tr style=\"text-align: right;\">\n",
       "      <th></th>\n",
       "      <th>workclass</th>\n",
       "      <th>education</th>\n",
       "      <th>marital.status</th>\n",
       "      <th>occupation</th>\n",
       "      <th>relationship</th>\n",
       "      <th>race</th>\n",
       "      <th>sex</th>\n",
       "      <th>native.country</th>\n",
       "      <th>income</th>\n",
       "    </tr>\n",
       "  </thead>\n",
       "  <tbody>\n",
       "    <tr>\n",
       "      <th>count</th>\n",
       "      <td>32561</td>\n",
       "      <td>32561</td>\n",
       "      <td>32561</td>\n",
       "      <td>32561</td>\n",
       "      <td>32561</td>\n",
       "      <td>32561</td>\n",
       "      <td>32561</td>\n",
       "      <td>32561</td>\n",
       "      <td>32561</td>\n",
       "    </tr>\n",
       "    <tr>\n",
       "      <th>unique</th>\n",
       "      <td>9</td>\n",
       "      <td>16</td>\n",
       "      <td>7</td>\n",
       "      <td>15</td>\n",
       "      <td>6</td>\n",
       "      <td>5</td>\n",
       "      <td>2</td>\n",
       "      <td>42</td>\n",
       "      <td>2</td>\n",
       "    </tr>\n",
       "    <tr>\n",
       "      <th>top</th>\n",
       "      <td>Private</td>\n",
       "      <td>HS-grad</td>\n",
       "      <td>Married-civ-spouse</td>\n",
       "      <td>Prof-specialty</td>\n",
       "      <td>Husband</td>\n",
       "      <td>White</td>\n",
       "      <td>Male</td>\n",
       "      <td>United-States</td>\n",
       "      <td>&lt;=50K</td>\n",
       "    </tr>\n",
       "    <tr>\n",
       "      <th>freq</th>\n",
       "      <td>22696</td>\n",
       "      <td>10501</td>\n",
       "      <td>14976</td>\n",
       "      <td>4140</td>\n",
       "      <td>13193</td>\n",
       "      <td>27816</td>\n",
       "      <td>21790</td>\n",
       "      <td>29170</td>\n",
       "      <td>24720</td>\n",
       "    </tr>\n",
       "  </tbody>\n",
       "</table>\n",
       "</div>"
      ],
      "text/plain": [
       "       workclass education      marital.status      occupation relationship  \\\n",
       "count      32561     32561               32561           32561        32561   \n",
       "unique         9        16                   7              15            6   \n",
       "top      Private   HS-grad  Married-civ-spouse  Prof-specialty      Husband   \n",
       "freq       22696     10501               14976            4140        13193   \n",
       "\n",
       "         race    sex native.country income  \n",
       "count   32561  32561          32561  32561  \n",
       "unique      5      2             42      2  \n",
       "top     White   Male  United-States  <=50K  \n",
       "freq    27816  21790          29170  24720  "
      ]
     },
     "execution_count": 6,
     "metadata": {},
     "output_type": "execute_result"
    }
   ],
   "source": [
    "data_frame.describe(include=[object])"
   ]
  },
  {
   "cell_type": "code",
   "execution_count": 7,
   "id": "f7f274f4-5bea-4d4f-b3c0-f55e4f6f6e09",
   "metadata": {},
   "outputs": [
    {
     "name": "stdout",
     "output_type": "stream",
     "text": [
      "income\n",
      "<=50K    24720\n",
      ">50K      7841\n",
      "dtype: int64\n"
     ]
    }
   ],
   "source": [
    "print(data_frame.groupby('income').size())"
   ]
  },
  {
   "cell_type": "code",
   "execution_count": 8,
   "id": "2d39e82f-0285-4fcc-9b03-5ac5f79a2759",
   "metadata": {},
   "outputs": [
    {
     "data": {
      "image/png": "[encoded data removed]",
      "text/plain": [
       "<Figure size 432x288 with 1 Axes>"
      ]
     },
     "metadata": {},
     "output_type": "display_data"
    }
   ],
   "source": [
    "tipos = data_frame['income'].unique()\n",
    "total = data_frame['income'].value_counts().tolist()\n",
    "explode = [0.4 if total[0] == max(total) else 0, 0.4 if total[1] == max(total) else 0] # Destacar algunos \n",
    "plt.pie(total, labels=tipos, explode = explode, autopct='%1.1f%%', shadow=True, startangle=90) \n",
    "plt.title('Distribución de Target')\n",
    "plt.show()"
   ]
  },
  {
   "cell_type": "code",
   "execution_count": 9,
   "id": "0e083c69-dcc8-4582-b117-c32a7fe41975",
   "metadata": {},
   "outputs": [
    {
     "name": "stdout",
     "output_type": "stream",
     "text": [
      "Total de valores nulos de age = 0\n",
      "Total de valores nulos de workclass = 0\n",
      "Total de valores nulos de fnlwgt = 0\n",
      "Total de valores nulos de education = 0\n",
      "Total de valores nulos de education.num = 0\n",
      "Total de valores nulos de marital.status = 0\n",
      "Total de valores nulos de occupation = 0\n",
      "Total de valores nulos de relationship = 0\n",
      "Total de valores nulos de race = 0\n",
      "Total de valores nulos de sex = 0\n",
      "Total de valores nulos de capital.gain = 0\n",
      "Total de valores nulos de capital.loss = 0\n",
      "Total de valores nulos de hours.per.week = 0\n",
      "Total de valores nulos de native.country = 0\n",
      "Total de valores nulos de income = 0\n"
     ]
    }
   ],
   "source": [
    "# Valores nulos\n",
    "for feature in data_frame.columns:\n",
    "    print('Total de valores nulos de', feature, '=', data_frame[feature].isna().sum())"
   ]
  },
  {
   "cell_type": "code",
   "execution_count": 10,
   "id": "d579fda6-45ef-455e-bbf7-c035f8d60fa3",
   "metadata": {},
   "outputs": [
    {
     "name": "stdout",
     "output_type": "stream",
     "text": [
      "Valores únicos de age = [90 82 66 54 41 34 38 74 68 45 52 32 51 46 57 22 37 29 61 21 33 49 23 59\n",
      " 60 63 53 44 43 71 48 73 67 40 50 42 39 55 47 31 58 62 36 72 78 83 26 70\n",
      " 27 35 81 65 25 28 56 69 20 30 24 64 75 19 77 80 18 17 76 79 88 84 85 86\n",
      " 87]\n",
      "Valores únicos de workclass = ['?' 'Private' 'State-gov' 'Federal-gov' 'Self-emp-not-inc' 'Self-emp-inc'\n",
      " 'Local-gov' 'Without-pay' 'Never-worked']\n",
      "Valores únicos de fnlwgt = [ 77053 132870 186061 ...  34066  84661 257302]\n",
      "Valores únicos de education = ['HS-grad' 'Some-college' '7th-8th' '10th' 'Doctorate' 'Prof-school'\n",
      " 'Bachelors' 'Masters' '11th' 'Assoc-acdm' 'Assoc-voc' '1st-4th' '5th-6th'\n",
      " '12th' '9th' 'Preschool']\n",
      "Valores únicos de education.num = [ 9 10  4  6 16 15 13 14  7 12 11  2  3  8  5  1]\n",
      "Valores únicos de marital.status = ['Widowed' 'Divorced' 'Separated' 'Never-married' 'Married-civ-spouse'\n",
      " 'Married-spouse-absent' 'Married-AF-spouse']\n",
      "Valores únicos de occupation = ['?' 'Exec-managerial' 'Machine-op-inspct' 'Prof-specialty'\n",
      " 'Other-service' 'Adm-clerical' 'Craft-repair' 'Transport-moving'\n",
      " 'Handlers-cleaners' 'Sales' 'Farming-fishing' 'Tech-support'\n",
      " 'Protective-serv' 'Armed-Forces' 'Priv-house-serv']\n",
      "Valores únicos de relationship = ['Not-in-family' 'Unmarried' 'Own-child' 'Other-relative' 'Husband' 'Wife']\n",
      "Valores únicos de race = ['White' 'Black' 'Asian-Pac-Islander' 'Other' 'Amer-Indian-Eskimo']\n",
      "Valores únicos de sex = ['Female' 'Male']\n",
      "Valores únicos de capital.gain = [    0 99999 41310 34095 27828 25236 25124 22040 20051 18481 15831 15024\n",
      " 15020 14344 14084 13550 11678 10605 10566 10520  9562  9386  8614  7978\n",
      "  7896  7688  7443  7430  7298  6849  6767  6723  6514  6497  6418  6360\n",
      "  6097  5721  5556  5455  5178  5060  5013  4934  4931  4865  4787  4687\n",
      "  4650  4508  4416  4386  4101  4064  3942  3908  3887  3818  3781  3674\n",
      "  3471  3464  3456  3432  3418  3411  3325  3273  3137  3103  2993  2977\n",
      "  2964  2961  2936  2907  2885  2829  2653  2635  2597  2580  2538  2463\n",
      "  2414  2407  2387  2354  2346  2329  2290  2228  2202  2176  2174  2105\n",
      "  2062  2050  2036  2009  1848  1831  1797  1639  1506  1471  1455  1424\n",
      "  1409  1173  1151  1111  1086  1055   991   914   594   401   114]\n",
      "Valores únicos de capital.loss = [4356 3900 3770 3683 3004 2824 2754 2603 2559 2547 2489 2472 2467 2457\n",
      " 2444 2415 2392 2377 2352 2339 2282 2267 2258 2246 2238 2231 2206 2205\n",
      " 2201 2179 2174 2163 2149 2129 2080 2057 2051 2042 2002 2001 1980 1977\n",
      " 1974 1944 1902 1887 1876 1848 1844 1825 1816 1762 1755 1741 1740 1735\n",
      " 1726 1721 1719 1672 1669 1668 1651 1648 1628 1617 1602 1594 1590 1579\n",
      " 1573 1564 1539 1504 1485 1411 1408 1380 1340 1258 1138 1092  974  880\n",
      "  810  653  625  419  323  213  155    0]\n",
      "Valores únicos de hours.per.week = [40 18 45 20 60 35 55 76 50 42 25 32 90 48 15 70 52 72 39  6 65 12 80 67\n",
      " 99 30 75 26 36 10 84 38 62 44  8 28 59  5 24 57 34 37 46 56 41 98 43 63\n",
      "  1 47 68 54  2 16  9  3  4 33 23 22 64 51 19 58 53 96 66 21  7 13 27 11\n",
      " 14 77 31 78 49 17 85 87 88 73 89 97 94 29 82 86 91 81 92 61 74 95]\n",
      "Valores únicos de native.country = ['United-States' '?' 'Mexico' 'Greece' 'Vietnam' 'China' 'Taiwan' 'India'\n",
      " 'Philippines' 'Trinadad&Tobago' 'Canada' 'South' 'Holand-Netherlands'\n",
      " 'Puerto-Rico' 'Poland' 'Iran' 'England' 'Germany' 'Italy' 'Japan' 'Hong'\n",
      " 'Honduras' 'Cuba' 'Ireland' 'Cambodia' 'Peru' 'Nicaragua'\n",
      " 'Dominican-Republic' 'Haiti' 'El-Salvador' 'Hungary' 'Columbia'\n",
      " 'Guatemala' 'Jamaica' 'Ecuador' 'France' 'Yugoslavia' 'Scotland'\n",
      " 'Portugal' 'Laos' 'Thailand' 'Outlying-US(Guam-USVI-etc)']\n",
      "Valores únicos de income = ['<=50K' '>50K']\n"
     ]
    }
   ],
   "source": [
    "for feature in data_frame.columns:\n",
    "    print('Valores únicos de', feature, '=', data_frame[feature].unique())"
   ]
  },
  {
   "cell_type": "code",
   "execution_count": 11,
   "id": "ee5d0ce1-e6cb-42bf-9d46-a79709b0557e",
   "metadata": {},
   "outputs": [],
   "source": [
    "moda=stat.mode(data_frame[\"workclass\"])\n",
    "data_frame.loc[data_frame.workclass=='?','workclass']=moda\n",
    "\n",
    "moda=stat.mode(data_frame[\"occupation\"])\n",
    "data_frame.loc[data_frame.occupation=='?','occupation']=moda\n",
    "\n",
    "moda=stat.mode(data_frame[\"native.country\"])\n",
    "data_frame.loc[data_frame['native.country']=='?','native.country']=moda\n"
   ]
  },
  {
   "cell_type": "code",
   "execution_count": 12,
   "id": "18342744-6993-44ec-85ed-e29656c9e54c",
   "metadata": {},
   "outputs": [
    {
     "name": "stdout",
     "output_type": "stream",
     "text": [
      "Valores únicos de age = [90 82 66 54 41 34 38 74 68 45 52 32 51 46 57 22 37 29 61 21 33 49 23 59\n",
      " 60 63 53 44 43 71 48 73 67 40 50 42 39 55 47 31 58 62 36 72 78 83 26 70\n",
      " 27 35 81 65 25 28 56 69 20 30 24 64 75 19 77 80 18 17 76 79 88 84 85 86\n",
      " 87]\n",
      "Valores únicos de workclass = ['Private' 'State-gov' 'Federal-gov' 'Self-emp-not-inc' 'Self-emp-inc'\n",
      " 'Local-gov' 'Without-pay' 'Never-worked']\n",
      "Valores únicos de fnlwgt = [ 77053 132870 186061 ...  34066  84661 257302]\n",
      "Valores únicos de education = ['HS-grad' 'Some-college' '7th-8th' '10th' 'Doctorate' 'Prof-school'\n",
      " 'Bachelors' 'Masters' '11th' 'Assoc-acdm' 'Assoc-voc' '1st-4th' '5th-6th'\n",
      " '12th' '9th' 'Preschool']\n",
      "Valores únicos de education.num = [ 9 10  4  6 16 15 13 14  7 12 11  2  3  8  5  1]\n",
      "Valores únicos de marital.status = ['Widowed' 'Divorced' 'Separated' 'Never-married' 'Married-civ-spouse'\n",
      " 'Married-spouse-absent' 'Married-AF-spouse']\n",
      "Valores únicos de occupation = ['Prof-specialty' 'Exec-managerial' 'Machine-op-inspct' 'Other-service'\n",
      " 'Adm-clerical' 'Craft-repair' 'Transport-moving' 'Handlers-cleaners'\n",
      " 'Sales' 'Farming-fishing' 'Tech-support' 'Protective-serv' 'Armed-Forces'\n",
      " 'Priv-house-serv']\n",
      "Valores únicos de relationship = ['Not-in-family' 'Unmarried' 'Own-child' 'Other-relative' 'Husband' 'Wife']\n",
      "Valores únicos de race = ['White' 'Black' 'Asian-Pac-Islander' 'Other' 'Amer-Indian-Eskimo']\n",
      "Valores únicos de sex = ['Female' 'Male']\n",
      "Valores únicos de capital.gain = [    0 99999 41310 34095 27828 25236 25124 22040 20051 18481 15831 15024\n",
      " 15020 14344 14084 13550 11678 10605 10566 10520  9562  9386  8614  7978\n",
      "  7896  7688  7443  7430  7298  6849  6767  6723  6514  6497  6418  6360\n",
      "  6097  5721  5556  5455  5178  5060  5013  4934  4931  4865  4787  4687\n",
      "  4650  4508  4416  4386  4101  4064  3942  3908  3887  3818  3781  3674\n",
      "  3471  3464  3456  3432  3418  3411  3325  3273  3137  3103  2993  2977\n",
      "  2964  2961  2936  2907  2885  2829  2653  2635  2597  2580  2538  2463\n",
      "  2414  2407  2387  2354  2346  2329  2290  2228  2202  2176  2174  2105\n",
      "  2062  2050  2036  2009  1848  1831  1797  1639  1506  1471  1455  1424\n",
      "  1409  1173  1151  1111  1086  1055   991   914   594   401   114]\n",
      "Valores únicos de capital.loss = [4356 3900 3770 3683 3004 2824 2754 2603 2559 2547 2489 2472 2467 2457\n",
      " 2444 2415 2392 2377 2352 2339 2282 2267 2258 2246 2238 2231 2206 2205\n",
      " 2201 2179 2174 2163 2149 2129 2080 2057 2051 2042 2002 2001 1980 1977\n",
      " 1974 1944 1902 1887 1876 1848 1844 1825 1816 1762 1755 1741 1740 1735\n",
      " 1726 1721 1719 1672 1669 1668 1651 1648 1628 1617 1602 1594 1590 1579\n",
      " 1573 1564 1539 1504 1485 1411 1408 1380 1340 1258 1138 1092  974  880\n",
      "  810  653  625  419  323  213  155    0]\n",
      "Valores únicos de hours.per.week = [40 18 45 20 60 35 55 76 50 42 25 32 90 48 15 70 52 72 39  6 65 12 80 67\n",
      " 99 30 75 26 36 10 84 38 62 44  8 28 59  5 24 57 34 37 46 56 41 98 43 63\n",
      "  1 47 68 54  2 16  9  3  4 33 23 22 64 51 19 58 53 96 66 21  7 13 27 11\n",
      " 14 77 31 78 49 17 85 87 88 73 89 97 94 29 82 86 91 81 92 61 74 95]\n",
      "Valores únicos de native.country = ['United-States' 'Mexico' 'Greece' 'Vietnam' 'China' 'Taiwan' 'India'\n",
      " 'Philippines' 'Trinadad&Tobago' 'Canada' 'South' 'Holand-Netherlands'\n",
      " 'Puerto-Rico' 'Poland' 'Iran' 'England' 'Germany' 'Italy' 'Japan' 'Hong'\n",
      " 'Honduras' 'Cuba' 'Ireland' 'Cambodia' 'Peru' 'Nicaragua'\n",
      " 'Dominican-Republic' 'Haiti' 'El-Salvador' 'Hungary' 'Columbia'\n",
      " 'Guatemala' 'Jamaica' 'Ecuador' 'France' 'Yugoslavia' 'Scotland'\n",
      " 'Portugal' 'Laos' 'Thailand' 'Outlying-US(Guam-USVI-etc)']\n",
      "Valores únicos de income = ['<=50K' '>50K']\n"
     ]
    }
   ],
   "source": [
    "for feature in data_frame.columns:\n",
    "    print('Valores únicos de', feature, '=', data_frame[feature].unique())"
   ]
  },
  {
   "cell_type": "code",
   "execution_count": 13,
   "id": "4f7bd8d5-5f51-4792-927b-c7d91226f036",
   "metadata": {},
   "outputs": [],
   "source": [
    "from sklearn.preprocessing import LabelEncoder\n",
    "data_frame['target'] = np.where(data_frame['income']=='<=50K', 0, 1)"
   ]
  },
  {
   "cell_type": "code",
   "execution_count": 14,
   "id": "432ea0f6-d838-4364-819d-7473c89f3366",
   "metadata": {},
   "outputs": [
    {
     "name": "stdout",
     "output_type": "stream",
     "text": [
      "['workclass', 'education', 'marital.status', 'occupation', 'relationship', 'race', 'sex', 'native.country', 'income']\n",
      "['age', 'fnlwgt', 'education.num', 'capital.gain', 'capital.loss', 'hours.per.week', 'target']\n"
     ]
    }
   ],
   "source": [
    "cat_var=[x for x in data_frame.columns if data_frame[x].dtype==\"O\"]\n",
    "print(cat_var)\n",
    "num_var=[x for x in data_frame.columns if x not in cat_var]\n",
    "print(num_var)"
   ]
  },
  {
   "cell_type": "code",
   "execution_count": null,
   "id": "7d03b897-3a37-49fd-9c98-1e297f6be20e",
   "metadata": {},
   "outputs": [
    {
     "data": {
      "image/png": "[encoded data removed]",
      "text/plain": [
       "<Figure size 360x360 with 1 Axes>"
      ]
     },
     "metadata": {
      "needs_background": "light"
     },
     "output_type": "display_data"
    }
   ],
   "source": [
    "import seaborn as sns\n",
    "#columnas = np.array(data_frame[num_var])\n",
    "columnas = num_var\n",
    "\n",
    "for col in columnas:\n",
    "    intervalos = range(min(data_frame[col]), max(data_frame[col]) + 2)\n",
    "    sns.displot( data_frame[col], color='#F2AB6D', bins=intervalos, kde=True) #creamos el gráfico en Seaborn\n",
    "\n",
    "    #configuramos en Matplotlib\n",
    "    #plt.xticks(intervalos)\n",
    "    plt.title(col)\n",
    "   # data_frame[col].hist()\n",
    "    plt.show()\n"
   ]
  },
  {
   "cell_type": "code",
   "execution_count": 16,
   "id": "e6acdb8d-7a74-4299-8d23-a69d187c8b13",
   "metadata": {},
   "outputs": [
    {
     "data": {
      "image/png": "[encoded data removed]",
      "text/plain": [
       "<Figure size 432x288 with 1 Axes>"
      ]
     },
     "metadata": {
      "needs_background": "light"
     },
     "output_type": "display_data"
    },
    {
     "data": {
      "image/png": "[encoded data removed]",
      "text/plain": [
       "<Figure size 432x288 with 1 Axes>"
      ]
     },
     "metadata": {
      "needs_background": "light"
     },
     "output_type": "display_data"
    },
    {
     "data": {
      "image/png": "[encoded data removed]",
      "text/plain": [
       "<Figure size 432x288 with 1 Axes>"
      ]
     },
     "metadata": {
      "needs_background": "light"
     },
     "output_type": "display_data"
    },
    {
     "data": {
      "image/png": "[encoded data removed]",
      "text/plain": [
       "<Figure size 432x288 with 1 Axes>"
      ]
     },
     "metadata": {
      "needs_background": "light"
     },
     "output_type": "display_data"
    },
    {
     "data": {
      "image/png": "[encoded data removed]",
      "text/plain": [
       "<Figure size 432x288 with 1 Axes>"
      ]
     },
     "metadata": {
      "needs_background": "light"
     },
     "output_type": "display_data"
    },
    {
     "data": {
      "image/png": "[encoded data removed]",
      "text/plain": [
       "<Figure size 432x288 with 1 Axes>"
      ]
     },
     "metadata": {
      "needs_background": "light"
     },
     "output_type": "display_data"
    },
    {
     "data": {
      "image/png": "[encoded data removed]",
      "text/plain": [
       "<Figure size 432x288 with 1 Axes>"
      ]
     },
     "metadata": {
      "needs_background": "light"
     },
     "output_type": "display_data"
    },
    {
     "data": {
      "image/png": "[encoded data removed]",
      "text/plain": [
       "<Figure size 432x288 with 1 Axes>"
      ]
     },
     "metadata": {
      "needs_background": "light"
     },
     "output_type": "display_data"
    },
    {
     "data": {
      "image/png": "[encoded data removed]",
      "text/plain": [
       "<Figure size 432x288 with 1 Axes>"
      ]
     },
     "metadata": {
      "needs_background": "light"
     },
     "output_type": "display_data"
    }
   ],
   "source": [
    "for i in cat_var:\n",
    "  plt.title(i)\n",
    "  sns.countplot(x=data_frame[i])\n",
    "  \n",
    "  plt.xticks(rotation=90)\n",
    "  plt.show()"
   ]
  },
  {
   "cell_type": "code",
   "execution_count": 17,
   "id": "c5361a29-eea0-4882-829e-9bcfd20a07ca",
   "metadata": {},
   "outputs": [
    {
     "data": {
      "image/png": "[encoded data removed]",
      "text/plain": [
       "<Figure size 1080x1080 with 2 Axes>"
      ]
     },
     "metadata": {
      "needs_background": "light"
     },
     "output_type": "display_data"
    }
   ],
   "source": [
    "## Correlación de las variables\n",
    "import matplotlib.pyplot as plt\n",
    "import seaborn as sns\n",
    "plt.figure(figsize=(15,15))\n",
    "p=sns.heatmap(data_frame.corr(), annot=True,cmap='RdYlGn',square=True)"
   ]
  },
  {
   "cell_type": "code",
   "execution_count": 20,
   "id": "581d9616-20a7-483e-9b73-567992deff38",
   "metadata": {},
   "outputs": [
    {
     "data": {
      "text/html": [
       "<div>\n",
       "<style scoped>\n",
       "    .dataframe tbody tr th:only-of-type {\n",
       "        vertical-align: middle;\n",
       "    }\n",
       "\n",
       "    .dataframe tbody tr th {\n",
       "        vertical-align: top;\n",
       "    }\n",
       "\n",
       "    .dataframe thead th {\n",
       "        text-align: right;\n",
       "    }\n",
       "</style>\n",
       "<table border=\"1\" class=\"dataframe\">\n",
       "  <thead>\n",
       "    <tr style=\"text-align: right;\">\n",
       "      <th></th>\n",
       "      <th>age</th>\n",
       "      <th>fnlwgt</th>\n",
       "      <th>education.num</th>\n",
       "      <th>capital.gain</th>\n",
       "      <th>capital.loss</th>\n",
       "      <th>hours.per.week</th>\n",
       "      <th>income</th>\n",
       "      <th>target</th>\n",
       "      <th>education=10th</th>\n",
       "      <th>education=11th</th>\n",
       "      <th>...</th>\n",
       "      <th>sex=Female</th>\n",
       "      <th>sex=Male</th>\n",
       "      <th>workclass=Federal-gov</th>\n",
       "      <th>workclass=Local-gov</th>\n",
       "      <th>workclass=Never-worked</th>\n",
       "      <th>workclass=Private</th>\n",
       "      <th>workclass=Self-emp-inc</th>\n",
       "      <th>workclass=Self-emp-not-inc</th>\n",
       "      <th>workclass=State-gov</th>\n",
       "      <th>workclass=Without-pay</th>\n",
       "    </tr>\n",
       "  </thead>\n",
       "  <tbody>\n",
       "    <tr>\n",
       "      <th>0</th>\n",
       "      <td>90</td>\n",
       "      <td>77053</td>\n",
       "      <td>9</td>\n",
       "      <td>0</td>\n",
       "      <td>4356</td>\n",
       "      <td>40</td>\n",
       "      <td>&lt;=50K</td>\n",
       "      <td>0</td>\n",
       "      <td>0.0</td>\n",
       "      <td>0.0</td>\n",
       "      <td>...</td>\n",
       "      <td>1.0</td>\n",
       "      <td>0.0</td>\n",
       "      <td>0.0</td>\n",
       "      <td>0.0</td>\n",
       "      <td>0.0</td>\n",
       "      <td>1.0</td>\n",
       "      <td>0.0</td>\n",
       "      <td>0.0</td>\n",
       "      <td>0.0</td>\n",
       "      <td>0.0</td>\n",
       "    </tr>\n",
       "    <tr>\n",
       "      <th>1</th>\n",
       "      <td>82</td>\n",
       "      <td>132870</td>\n",
       "      <td>9</td>\n",
       "      <td>0</td>\n",
       "      <td>4356</td>\n",
       "      <td>18</td>\n",
       "      <td>&lt;=50K</td>\n",
       "      <td>0</td>\n",
       "      <td>0.0</td>\n",
       "      <td>0.0</td>\n",
       "      <td>...</td>\n",
       "      <td>1.0</td>\n",
       "      <td>0.0</td>\n",
       "      <td>0.0</td>\n",
       "      <td>0.0</td>\n",
       "      <td>0.0</td>\n",
       "      <td>1.0</td>\n",
       "      <td>0.0</td>\n",
       "      <td>0.0</td>\n",
       "      <td>0.0</td>\n",
       "      <td>0.0</td>\n",
       "    </tr>\n",
       "    <tr>\n",
       "      <th>2</th>\n",
       "      <td>66</td>\n",
       "      <td>186061</td>\n",
       "      <td>10</td>\n",
       "      <td>0</td>\n",
       "      <td>4356</td>\n",
       "      <td>40</td>\n",
       "      <td>&lt;=50K</td>\n",
       "      <td>0</td>\n",
       "      <td>0.0</td>\n",
       "      <td>0.0</td>\n",
       "      <td>...</td>\n",
       "      <td>1.0</td>\n",
       "      <td>0.0</td>\n",
       "      <td>0.0</td>\n",
       "      <td>0.0</td>\n",
       "      <td>0.0</td>\n",
       "      <td>1.0</td>\n",
       "      <td>0.0</td>\n",
       "      <td>0.0</td>\n",
       "      <td>0.0</td>\n",
       "      <td>0.0</td>\n",
       "    </tr>\n",
       "    <tr>\n",
       "      <th>3</th>\n",
       "      <td>54</td>\n",
       "      <td>140359</td>\n",
       "      <td>4</td>\n",
       "      <td>0</td>\n",
       "      <td>3900</td>\n",
       "      <td>40</td>\n",
       "      <td>&lt;=50K</td>\n",
       "      <td>0</td>\n",
       "      <td>0.0</td>\n",
       "      <td>0.0</td>\n",
       "      <td>...</td>\n",
       "      <td>1.0</td>\n",
       "      <td>0.0</td>\n",
       "      <td>0.0</td>\n",
       "      <td>0.0</td>\n",
       "      <td>0.0</td>\n",
       "      <td>1.0</td>\n",
       "      <td>0.0</td>\n",
       "      <td>0.0</td>\n",
       "      <td>0.0</td>\n",
       "      <td>0.0</td>\n",
       "    </tr>\n",
       "    <tr>\n",
       "      <th>4</th>\n",
       "      <td>41</td>\n",
       "      <td>264663</td>\n",
       "      <td>10</td>\n",
       "      <td>0</td>\n",
       "      <td>3900</td>\n",
       "      <td>40</td>\n",
       "      <td>&lt;=50K</td>\n",
       "      <td>0</td>\n",
       "      <td>0.0</td>\n",
       "      <td>0.0</td>\n",
       "      <td>...</td>\n",
       "      <td>1.0</td>\n",
       "      <td>0.0</td>\n",
       "      <td>0.0</td>\n",
       "      <td>0.0</td>\n",
       "      <td>0.0</td>\n",
       "      <td>1.0</td>\n",
       "      <td>0.0</td>\n",
       "      <td>0.0</td>\n",
       "      <td>0.0</td>\n",
       "      <td>0.0</td>\n",
       "    </tr>\n",
       "  </tbody>\n",
       "</table>\n",
       "<p>5 rows × 107 columns</p>\n",
       "</div>"
      ],
      "text/plain": [
       "   age  fnlwgt  education.num  capital.gain  capital.loss  hours.per.week  \\\n",
       "0   90   77053              9             0          4356              40   \n",
       "1   82  132870              9             0          4356              18   \n",
       "2   66  186061             10             0          4356              40   \n",
       "3   54  140359              4             0          3900              40   \n",
       "4   41  264663             10             0          3900              40   \n",
       "\n",
       "  income  target  education=10th  education=11th  ...  sex=Female  sex=Male  \\\n",
       "0  <=50K       0             0.0             0.0  ...         1.0       0.0   \n",
       "1  <=50K       0             0.0             0.0  ...         1.0       0.0   \n",
       "2  <=50K       0             0.0             0.0  ...         1.0       0.0   \n",
       "3  <=50K       0             0.0             0.0  ...         1.0       0.0   \n",
       "4  <=50K       0             0.0             0.0  ...         1.0       0.0   \n",
       "\n",
       "   workclass=Federal-gov  workclass=Local-gov  workclass=Never-worked  \\\n",
       "0                    0.0                  0.0                     0.0   \n",
       "1                    0.0                  0.0                     0.0   \n",
       "2                    0.0                  0.0                     0.0   \n",
       "3                    0.0                  0.0                     0.0   \n",
       "4                    0.0                  0.0                     0.0   \n",
       "\n",
       "   workclass=Private  workclass=Self-emp-inc  workclass=Self-emp-not-inc  \\\n",
       "0                1.0                     0.0                         0.0   \n",
       "1                1.0                     0.0                         0.0   \n",
       "2                1.0                     0.0                         0.0   \n",
       "3                1.0                     0.0                         0.0   \n",
       "4                1.0                     0.0                         0.0   \n",
       "\n",
       "   workclass=State-gov  workclass=Without-pay  \n",
       "0                  0.0                    0.0  \n",
       "1                  0.0                    0.0  \n",
       "2                  0.0                    0.0  \n",
       "3                  0.0                    0.0  \n",
       "4                  0.0                    0.0  \n",
       "\n",
       "[5 rows x 107 columns]"
      ]
     },
     "execution_count": 20,
     "metadata": {},
     "output_type": "execute_result"
    }
   ],
   "source": [
    "DF_nuevo = encode_onehot(data_frame, cols=['workclass','education','marital.status','occupation','relationship','race','sex','native.country'])\n",
    "DF_nuevo.head()"
   ]
  },
  {
   "cell_type": "code",
   "execution_count": 21,
   "id": "f18bdfad-5652-4862-9396-c4ea2b10a44f",
   "metadata": {},
   "outputs": [],
   "source": [
    "X=DF_nuevo.drop(['target','income'], axis=1)\n",
    "y=DF_nuevo['target']\n",
    "\n",
    "from sklearn.model_selection import train_test_split\n",
    "\n",
    "\n",
    "# Se separan los datos de \"train\" en entrenamiento y prueba para probar los algoritmos\n",
    "X_train, X_test, y_train, y_test = train_test_split(X, y, test_size=0.2, random_state = 29)\n",
    "\n",
    "# Define el algoritmo a utilizar Naive Bayes\n",
    "from sklearn.naive_bayes import GaussianNB\n",
    "\n",
    "modelo = GaussianNB()\n",
    "\n",
    "# Entrenamiento del modelo\n",
    "modelo.fit(X_train, y_train)\n",
    "\n",
    "# Validación del modelo\n",
    "y_pred = modelo.predict(X_test)\n"
   ]
  },
  {
   "cell_type": "code",
   "execution_count": 22,
   "id": "134ec676-5512-4f1c-807d-de55dff80fa4",
   "metadata": {},
   "outputs": [
    {
     "name": "stdout",
     "output_type": "stream",
     "text": [
      "Matriz de Confusión:\n",
      "[[4652  259]\n",
      " [1120  482]]\n",
      "Precisión del modelo: 0.650472334682861\n"
     ]
    }
   ],
   "source": [
    "# Evaluación del modelo\n",
    "from sklearn.metrics import confusion_matrix\n",
    "\n",
    "matriz = confusion_matrix(y_test, y_pred)\n",
    "print('Matriz de Confusión:')\n",
    "print(matriz)\n",
    "\n",
    "# Se calcula la precisión del modelo\n",
    "from sklearn.metrics import precision_score\n",
    "\n",
    "precision = precision_score(y_test, y_pred)\n",
    "print('Precisión del modelo:', precision)"
   ]
  },
  {
   "cell_type": "code",
   "execution_count": 23,
   "id": "3924d3c8-3bea-47a7-81a3-3b821820c474",
   "metadata": {},
   "outputs": [
    {
     "name": "stdout",
     "output_type": "stream",
     "text": [
      "Index(['age', 'education.num', 'marital.status=Married-civ-spouse',\n",
      "       'marital.status=Never-married', 'relationship=Husband'],\n",
      "      dtype='object')\n"
     ]
    }
   ],
   "source": [
    "from sklearn.feature_selection import SelectKBest\n",
    "X=DF_nuevo.drop(['target','income'], axis=1)\n",
    "y=DF_nuevo['target']\n",
    "\n",
    "best=SelectKBest(k=5)\n",
    "X_new = best.fit_transform(X, y)\n",
    "X_new.shape\n",
    "selected = best.get_support(indices=True)\n",
    "print(X.columns[selected])"
   ]
  },
  {
   "cell_type": "code",
   "execution_count": 26,
   "id": "d97cd7eb-6baa-4010-b80c-fc68df15fc2a",
   "metadata": {},
   "outputs": [],
   "source": [
    "used_features = X.columns[selected]\n",
    "X2 = DF_nuevo[used_features]\n",
    "# Se separan los datos de \"train\" en entrenamiento y prueba para probar los algoritmos\n",
    "X_train, X_test, y_train, y_test = train_test_split(X2, y, test_size=0.2, random_state = 29)\n",
    "\n",
    "modelo_x = GaussianNB()\n",
    "\n",
    "# Entrenamiento del modelo\n",
    "modelo_x.fit(X_train, y_train)\n",
    "\n",
    "# Validación del modelo\n",
    "y_pred = modelo_x.predict(X_test)"
   ]
  },
  {
   "cell_type": "code",
   "execution_count": 27,
   "id": "d8c56a7b-d153-47b7-9253-308d8570720e",
   "metadata": {},
   "outputs": [
    {
     "name": "stdout",
     "output_type": "stream",
     "text": [
      "Matriz de Confusión:\n",
      "[[3584 1327]\n",
      " [ 329 1273]]\n",
      "Precisión del modelo: 0.4896153846153846\n"
     ]
    }
   ],
   "source": [
    "# Evaluación del modelo\n",
    "from sklearn.metrics import confusion_matrix\n",
    "\n",
    "matriz = confusion_matrix(y_test, y_pred)\n",
    "print('Matriz de Confusión:')\n",
    "print(matriz)\n",
    "\n",
    "# Se calcula la precisión del modelo\n",
    "from sklearn.metrics import precision_score\n",
    "\n",
    "precision = precision_score(y_test, y_pred)\n",
    "print('Precisión del modelo:', precision)"
   ]
  },
  {
   "cell_type": "code",
   "execution_count": 28,
   "id": "fe41f809-1def-4cb5-b845-a542340e88aa",
   "metadata": {},
   "outputs": [
    {
     "data": {
      "text/html": [
       "<div>\n",
       "<style scoped>\n",
       "    .dataframe tbody tr th:only-of-type {\n",
       "        vertical-align: middle;\n",
       "    }\n",
       "\n",
       "    .dataframe tbody tr th {\n",
       "        vertical-align: top;\n",
       "    }\n",
       "\n",
       "    .dataframe thead th {\n",
       "        text-align: right;\n",
       "    }\n",
       "</style>\n",
       "<table border=\"1\" class=\"dataframe\">\n",
       "  <thead>\n",
       "    <tr style=\"text-align: right;\">\n",
       "      <th></th>\n",
       "      <th>0</th>\n",
       "      <th>1</th>\n",
       "      <th>2</th>\n",
       "      <th>3</th>\n",
       "      <th>4</th>\n",
       "      <th>5</th>\n",
       "      <th>6</th>\n",
       "      <th>7</th>\n",
       "      <th>8</th>\n",
       "      <th>9</th>\n",
       "      <th>...</th>\n",
       "      <th>95</th>\n",
       "      <th>96</th>\n",
       "      <th>97</th>\n",
       "      <th>98</th>\n",
       "      <th>99</th>\n",
       "      <th>100</th>\n",
       "      <th>101</th>\n",
       "      <th>102</th>\n",
       "      <th>103</th>\n",
       "      <th>104</th>\n",
       "    </tr>\n",
       "  </thead>\n",
       "  <tbody>\n",
       "    <tr>\n",
       "      <th>0</th>\n",
       "      <td>3.769612</td>\n",
       "      <td>-1.067997</td>\n",
       "      <td>-0.420060</td>\n",
       "      <td>-0.14592</td>\n",
       "      <td>10.593507</td>\n",
       "      <td>-0.035429</td>\n",
       "      <td>-0.171753</td>\n",
       "      <td>-0.193487</td>\n",
       "      <td>-0.116092</td>\n",
       "      <td>-0.072016</td>\n",
       "      <td>...</td>\n",
       "      <td>1.422331</td>\n",
       "      <td>-1.422331</td>\n",
       "      <td>-0.174295</td>\n",
       "      <td>-0.262097</td>\n",
       "      <td>-0.014664</td>\n",
       "      <td>0.57209</td>\n",
       "      <td>-0.188389</td>\n",
       "      <td>-0.290936</td>\n",
       "      <td>-0.203761</td>\n",
       "      <td>-0.02074</td>\n",
       "    </tr>\n",
       "    <tr>\n",
       "      <th>1</th>\n",
       "      <td>3.183112</td>\n",
       "      <td>-0.539169</td>\n",
       "      <td>-0.420060</td>\n",
       "      <td>-0.14592</td>\n",
       "      <td>10.593507</td>\n",
       "      <td>-1.817204</td>\n",
       "      <td>-0.171753</td>\n",
       "      <td>-0.193487</td>\n",
       "      <td>-0.116092</td>\n",
       "      <td>-0.072016</td>\n",
       "      <td>...</td>\n",
       "      <td>1.422331</td>\n",
       "      <td>-1.422331</td>\n",
       "      <td>-0.174295</td>\n",
       "      <td>-0.262097</td>\n",
       "      <td>-0.014664</td>\n",
       "      <td>0.57209</td>\n",
       "      <td>-0.188389</td>\n",
       "      <td>-0.290936</td>\n",
       "      <td>-0.203761</td>\n",
       "      <td>-0.02074</td>\n",
       "    </tr>\n",
       "    <tr>\n",
       "      <th>2</th>\n",
       "      <td>2.010110</td>\n",
       "      <td>-0.035220</td>\n",
       "      <td>-0.031360</td>\n",
       "      <td>-0.14592</td>\n",
       "      <td>10.593507</td>\n",
       "      <td>-0.035429</td>\n",
       "      <td>-0.171753</td>\n",
       "      <td>-0.193487</td>\n",
       "      <td>-0.116092</td>\n",
       "      <td>-0.072016</td>\n",
       "      <td>...</td>\n",
       "      <td>1.422331</td>\n",
       "      <td>-1.422331</td>\n",
       "      <td>-0.174295</td>\n",
       "      <td>-0.262097</td>\n",
       "      <td>-0.014664</td>\n",
       "      <td>0.57209</td>\n",
       "      <td>-0.188389</td>\n",
       "      <td>-0.290936</td>\n",
       "      <td>-0.203761</td>\n",
       "      <td>-0.02074</td>\n",
       "    </tr>\n",
       "    <tr>\n",
       "      <th>3</th>\n",
       "      <td>1.130359</td>\n",
       "      <td>-0.468215</td>\n",
       "      <td>-2.363558</td>\n",
       "      <td>-0.14592</td>\n",
       "      <td>9.461864</td>\n",
       "      <td>-0.035429</td>\n",
       "      <td>-0.171753</td>\n",
       "      <td>-0.193487</td>\n",
       "      <td>-0.116092</td>\n",
       "      <td>-0.072016</td>\n",
       "      <td>...</td>\n",
       "      <td>1.422331</td>\n",
       "      <td>-1.422331</td>\n",
       "      <td>-0.174295</td>\n",
       "      <td>-0.262097</td>\n",
       "      <td>-0.014664</td>\n",
       "      <td>0.57209</td>\n",
       "      <td>-0.188389</td>\n",
       "      <td>-0.290936</td>\n",
       "      <td>-0.203761</td>\n",
       "      <td>-0.02074</td>\n",
       "    </tr>\n",
       "    <tr>\n",
       "      <th>4</th>\n",
       "      <td>0.177296</td>\n",
       "      <td>0.709482</td>\n",
       "      <td>-0.031360</td>\n",
       "      <td>-0.14592</td>\n",
       "      <td>9.461864</td>\n",
       "      <td>-0.035429</td>\n",
       "      <td>-0.171753</td>\n",
       "      <td>-0.193487</td>\n",
       "      <td>-0.116092</td>\n",
       "      <td>-0.072016</td>\n",
       "      <td>...</td>\n",
       "      <td>1.422331</td>\n",
       "      <td>-1.422331</td>\n",
       "      <td>-0.174295</td>\n",
       "      <td>-0.262097</td>\n",
       "      <td>-0.014664</td>\n",
       "      <td>0.57209</td>\n",
       "      <td>-0.188389</td>\n",
       "      <td>-0.290936</td>\n",
       "      <td>-0.203761</td>\n",
       "      <td>-0.02074</td>\n",
       "    </tr>\n",
       "  </tbody>\n",
       "</table>\n",
       "<p>5 rows × 105 columns</p>\n",
       "</div>"
      ],
      "text/plain": [
       "        0         1         2        3          4         5         6    \\\n",
       "0  3.769612 -1.067997 -0.420060 -0.14592  10.593507 -0.035429 -0.171753   \n",
       "1  3.183112 -0.539169 -0.420060 -0.14592  10.593507 -1.817204 -0.171753   \n",
       "2  2.010110 -0.035220 -0.031360 -0.14592  10.593507 -0.035429 -0.171753   \n",
       "3  1.130359 -0.468215 -2.363558 -0.14592   9.461864 -0.035429 -0.171753   \n",
       "4  0.177296  0.709482 -0.031360 -0.14592   9.461864 -0.035429 -0.171753   \n",
       "\n",
       "        7         8         9    ...       95        96        97        98   \\\n",
       "0 -0.193487 -0.116092 -0.072016  ...  1.422331 -1.422331 -0.174295 -0.262097   \n",
       "1 -0.193487 -0.116092 -0.072016  ...  1.422331 -1.422331 -0.174295 -0.262097   \n",
       "2 -0.193487 -0.116092 -0.072016  ...  1.422331 -1.422331 -0.174295 -0.262097   \n",
       "3 -0.193487 -0.116092 -0.072016  ...  1.422331 -1.422331 -0.174295 -0.262097   \n",
       "4 -0.193487 -0.116092 -0.072016  ...  1.422331 -1.422331 -0.174295 -0.262097   \n",
       "\n",
       "        99       100       101       102       103      104  \n",
       "0 -0.014664  0.57209 -0.188389 -0.290936 -0.203761 -0.02074  \n",
       "1 -0.014664  0.57209 -0.188389 -0.290936 -0.203761 -0.02074  \n",
       "2 -0.014664  0.57209 -0.188389 -0.290936 -0.203761 -0.02074  \n",
       "3 -0.014664  0.57209 -0.188389 -0.290936 -0.203761 -0.02074  \n",
       "4 -0.014664  0.57209 -0.188389 -0.290936 -0.203761 -0.02074  \n",
       "\n",
       "[5 rows x 105 columns]"
      ]
     },
     "execution_count": 28,
     "metadata": {},
     "output_type": "execute_result"
    }
   ],
   "source": [
    "from sklearn.preprocessing import StandardScaler\n",
    "\n",
    "X=DF_nuevo.drop(['target','income'], axis=1)\n",
    "y=DF_nuevo['target']\n",
    "\n",
    "sc = StandardScaler()\n",
    "\n",
    "scaled_data = sc.fit_transform(X)\n",
    "pd.DataFrame(scaled_data).head()"
   ]
  },
  {
   "cell_type": "code",
   "execution_count": 36,
   "id": "5e2a72a0-8bc2-4bc2-8ca2-836a55965084",
   "metadata": {},
   "outputs": [],
   "source": [
    "X_train, X_test, y_train, y_test = train_test_split(scaled_data, y, test_size=0.2, random_state = 29)\n",
    "\n",
    "modelo_x = GaussianNB()\n",
    "\n",
    "# Entrenamiento del modelo\n",
    "modelo_x.fit(X_train, y_train)\n",
    "\n",
    "# Validación del modelo\n",
    "y_pred = modelo_x.predict(X_test)\n"
   ]
  },
  {
   "cell_type": "code",
   "execution_count": 37,
   "id": "1e132f86-6a23-4ced-90f5-908593623405",
   "metadata": {},
   "outputs": [
    {
     "name": "stdout",
     "output_type": "stream",
     "text": [
      "Matriz de Confusión:\n",
      "[[1671 3240]\n",
      " [  53 1549]]\n",
      "Precisión del modelo: 0.32344957193568596\n"
     ]
    }
   ],
   "source": [
    "# Evaluación del modelo\n",
    "from sklearn.metrics import confusion_matrix\n",
    "\n",
    "matriz = confusion_matrix(y_test, y_pred)\n",
    "print('Matriz de Confusión:')\n",
    "print(matriz)\n",
    "\n",
    "# Se calcula la precisión del modelo\n",
    "from sklearn.metrics import precision_score\n",
    "\n",
    "precision = precision_score(y_test, y_pred)\n",
    "print('Precisión del modelo:', precision)"
   ]
  },
  {
   "cell_type": "code",
   "execution_count": 34,
   "id": "eb918a06-b928-49df-889e-887c20729410",
   "metadata": {},
   "outputs": [
    {
     "name": "stdout",
     "output_type": "stream",
     "text": [
      "Precisión del modelo: 0.8120681713496085\n",
      "Accuracy del modelo: 0.8120681713496085\n"
     ]
    }
   ],
   "source": [
    "from sklearn.model_selection import train_test_split\n",
    "from sklearn.tree import DecisionTreeClassifier\n",
    "from sklearn.metrics import accuracy_score\n",
    "\n",
    "# Separar los datos de \"train\" en entrenamiento y prueba para probar los algoritmos\n",
    "X_train, X_test, y_train, y_test = train_test_split(scaled_data, y, test_size=0.2, random_state = 29)\n",
    "\n",
    "#modelo = DecisionTreeClassifier(random_state=29)\n",
    "modelo = DecisionTreeClassifier(random_state=29,class_weight='balanced')\n",
    "\n",
    "# Entrenamiento del modelo\n",
    "modelo.fit(X_train, y_train)\n",
    "\n",
    "# Validación del modelo\n",
    "y_pred = modelo.predict(X_test)\n",
    "\n",
    "# Evaluación del modelo\n",
    "print('Precisión del modelo:', modelo.score(X_test, y_test))\n",
    "print('Accuracy del modelo:', accuracy_score(y_test, y_pred))"
   ]
  },
  {
   "cell_type": "code",
   "execution_count": 35,
   "id": "0a472113-576c-47bf-ae49-4bd941c4ef72",
   "metadata": {},
   "outputs": [
    {
     "name": "stdout",
     "output_type": "stream",
     "text": [
      "Matriz de Confusión:\n",
      "[[4306  605]\n",
      " [ 619  983]]\n",
      "Precisión del modelo: 0.6190176322418136\n"
     ]
    }
   ],
   "source": [
    "# Evaluación del modelo\n",
    "from sklearn.metrics import confusion_matrix\n",
    "\n",
    "matriz = confusion_matrix(y_test, y_pred)\n",
    "print('Matriz de Confusión:')\n",
    "print(matriz)\n",
    "\n",
    "# Se calcula la precisión del modelo\n",
    "from sklearn.metrics import precision_score\n",
    "\n",
    "precision = precision_score(y_test, y_pred)\n",
    "print('Precisión del modelo:', precision)\n"
   ]
  },
  {
   "cell_type": "code",
   "execution_count": 33,
   "id": "3c7cdc44-0f00-4ac1-a600-233defe74f03",
   "metadata": {},
   "outputs": [
    {
     "name": "stdout",
     "output_type": "stream",
     "text": [
      "R2 :0.37\n",
      "MSE: 0.12\n",
      "Score del modelo : 0.37\n"
     ]
    }
   ],
   "source": [
    "from sklearn.linear_model import LinearRegression\n",
    "from sklearn.model_selection import train_test_split\n",
    "from sklearn.metrics import mean_squared_error, r2_score\n",
    "\n",
    "# Se separan las variables predictoras y la predecida\n",
    "\n",
    "\n",
    "X_train, X_test, y_train, y_test = train_test_split(scaled_data, y, \n",
    "                                                    test_size=0.2, random_state=29)\n",
    "# Tipo de modelo\n",
    "modelo = LinearRegression()\n",
    "\n",
    "# Entrenamiento del modelo\n",
    "modelo.fit(X_train, y_train)\n",
    "\n",
    "# Validación del modelo\n",
    "y_pred = modelo.predict(X_test)\n",
    "\n",
    "# Evaluación del modelo\n",
    "print(\"R2 :%.2f\" % r2_score(y_test, y_pred))\n",
    "print(\"MSE: %.2f\" % mean_squared_error(y_pred, y_test))\n",
    "print(\"Score del modelo : %.2f\" % modelo.score(X_train, y_train))"
   ]
  }
 ],
 "metadata": {
  "kernelspec": {
   "display_name": "Python 3",
   "language": "python",
   "name": "python3"
  },
  "language_info": {
   "codemirror_mode": {
    "name": "ipython",
    "version": 3
   },
   "file_extension": ".py",
   "mimetype": "text/x-python",
   "name": "python",
   "nbconvert_exporter": "python",
   "pygments_lexer": "ipython3",
   "version": "3.8.8"
  }
 },
 "nbformat": 4,
 "nbformat_minor": 5
}
