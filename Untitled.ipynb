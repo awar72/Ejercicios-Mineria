{
 "cells": [
  {
   "cell_type": "markdown",
   "metadata": {},
   "source": [
    "## Colecciones"
   ]
  },
  {
   "cell_type": "code",
   "execution_count": 1,
   "metadata": {},
   "outputs": [
    {
     "data": {
      "text/plain": [
       "['Pedro', 25, 'Miguelina', 56, 'Fernando', 45, 'Josefina', 49.3, False]"
      ]
     },
     "execution_count": 1,
     "metadata": {},
     "output_type": "execute_result"
    }
   ],
   "source": [
    "lst_z = ['Pedro', 25, 'Miguelina', 56, 'Fernando', 45, 'Josefina', 49.3, False]\n",
    "lst_z"
   ]
  },
  {
   "cell_type": "code",
   "execution_count": 3,
   "metadata": {},
   "outputs": [
    {
     "data": {
      "text/plain": [
       "['Pedro', 25, 'Miguelina', 56, 'Fernando', 45, 'Josefina', 49.3, False, 49, 49]"
      ]
     },
     "execution_count": 3,
     "metadata": {},
     "output_type": "execute_result"
    }
   ],
   "source": [
    "lst_z = lst_z +[49]\n",
    "lst_z"
   ]
  },
  {
   "cell_type": "code",
   "execution_count": 7,
   "metadata": {},
   "outputs": [],
   "source": [
    "lst_z.append(60)"
   ]
  },
  {
   "cell_type": "code",
   "execution_count": 8,
   "metadata": {},
   "outputs": [
    {
     "data": {
      "text/plain": [
       "['Pedro',\n",
       " 25,\n",
       " 'Miguelina',\n",
       " 56,\n",
       " 'Fernando',\n",
       " 45,\n",
       " 'Josefina',\n",
       " 49.3,\n",
       " False,\n",
       " 49,\n",
       " 49,\n",
       " [60],\n",
       " 60]"
      ]
     },
     "execution_count": 8,
     "metadata": {},
     "output_type": "execute_result"
    }
   ],
   "source": [
    "lst_z"
   ]
  },
  {
   "cell_type": "code",
   "execution_count": 11,
   "metadata": {},
   "outputs": [],
   "source": [
    "lst_z.insert(2,90)"
   ]
  },
  {
   "cell_type": "code",
   "execution_count": 12,
   "metadata": {},
   "outputs": [
    {
     "data": {
      "text/plain": [
       "['Pedro',\n",
       " 25,\n",
       " 90,\n",
       " 'Miguelina',\n",
       " 56,\n",
       " 'Fernando',\n",
       " 45,\n",
       " 'Josefina',\n",
       " 49.3,\n",
       " False,\n",
       " 49,\n",
       " 49,\n",
       " [60],\n",
       " 60,\n",
       " 2]"
      ]
     },
     "execution_count": 12,
     "metadata": {},
     "output_type": "execute_result"
    }
   ],
   "source": [
    "lst_z"
   ]
  }
 ],
 "metadata": {
  "kernelspec": {
   "display_name": "Python 3",
   "language": "python",
   "name": "python3"
  },
  "language_info": {
   "codemirror_mode": {
    "name": "ipython",
    "version": 3
   },
   "file_extension": ".py",
   "mimetype": "text/x-python",
   "name": "python",
   "nbconvert_exporter": "python",
   "pygments_lexer": "ipython3",
   "version": "3.7.6"
  }
 },
 "nbformat": 4,
 "nbformat_minor": 4
}
